{
 "cells": [
  {
   "cell_type": "code",
   "execution_count": 31,
   "metadata": {},
   "outputs": [],
   "source": [
    "# LSTM for international airline passengers problem with regression framing\n",
    "import numpy\n",
    "import matplotlib.pyplot as plt\n",
    "from pandas import read_csv\n",
    "import math\n",
    "from keras.models import Model\n",
    "from keras.models import Sequential\n",
    "from keras.layers import Dropout\n",
    "from keras.layers import Input\n",
    "from keras.layers import Dense\n",
    "from keras.layers import LSTM\n",
    "from keras.layers import RepeatVector\n",
    "from sklearn.preprocessing import MinMaxScaler\n",
    "from sklearn.metrics import mean_squared_error\n",
    "# convert an array of values into a dataset matrix\n",
    "def create_dataset(dataset, look_back=1):\n",
    "    dataX, dataY = [], []\n",
    "    for i in range(len(dataset)-look_back-1):\n",
    "        a = dataset[i:(i+look_back), 0]\n",
    "        dataX.append(a)\n",
    "        dataY.append(dataset[i + look_back, 0])\n",
    "    return numpy.array(dataX), numpy.array(dataY)\n",
    "    \n",
    "# fix random seed for reproducibility\n",
    "numpy.random.seed(7)\n",
    "\n",
    "# load the dataset\n",
    "dataframe = read_csv('international-airline-passengers.csv', usecols=[1], engine='python', skipfooter=3)\n",
    "dataset = dataframe.values\n",
    "dataset = dataset.astype('float32')\n",
    "\n",
    "# normalize the dataset\n",
    "scaler = MinMaxScaler(feature_range=(0, 1))\n",
    "dataset = scaler.fit_transform(dataset)\n",
    "\n",
    "# split into train and test sets\n",
    "train_size = int(len(dataset) * 0.67)\n",
    "test_size = len(dataset) - train_size\n",
    "train, test = dataset[0:train_size,:], dataset[train_size:len(dataset),:]\n",
    "\n",
    "# reshape into X=t and Y=t+1\n",
    "look_back = 1\n",
    "trainX, trainY = create_dataset(train, look_back)\n",
    "testX, testY = create_dataset(test, look_back)\n",
    "\n",
    "# reshape input to be [samples, time steps, features]\n",
    "trainX = numpy.reshape(trainX, (trainX.shape[0], 1, trainX.shape[1]))\n",
    "testX = numpy.reshape(testX, (testX.shape[0], 1, testX.shape[1]))\n"
   ]
  },
  {
   "cell_type": "code",
   "execution_count": 6,
   "metadata": {},
   "outputs": [
    {
     "data": {
      "text/plain": [
       "<keras.callbacks.History at 0x1a2e207f90>"
      ]
     },
     "execution_count": 6,
     "metadata": {},
     "output_type": "execute_result"
    }
   ],
   "source": [
    "# create and fit the LSTM network\n",
    "encoder_decoder = Sequential()\n",
    "encoder_decoder.add(LSTM(128, input_shape=(1, look_back), return_sequences=True))\n",
    "encoder_decoder.add(LSTM(32, input_shape=(1, look_back)))\n",
    "encoder_decoder.add(RepeatVector(3))\n",
    "encoder_decoder.add(LSTM(128, input_shape=(1, look_back), return_sequences=True))\n",
    "encoder_decoder.add(LSTM(32, input_shape=(1, look_back)))\n",
    "encoder_decoder.add(Dense(1))\n",
    "encoder_decoder.compile(loss='mean_squared_error', optimizer='adam')\n",
    "encoder_decoder.fit(trainX, trainY, epochs=100, batch_size=1, verbose=0)"
   ]
  },
  {
   "cell_type": "code",
   "execution_count": 32,
   "metadata": {},
   "outputs": [],
   "source": [
    "def initialize_encoder():\n",
    "    input1 = Input((1, look_back))\n",
    "    x = LSTM(128, input_shape=(1, look_back), return_sequences=True)(input1)\n",
    "    x, state_h, state_c = LSTM(32, input_shape=(1, look_back), return_state=True)(x)\n",
    "    encoder = Model(inputs=input1, outputs=[x, state_h, state_c])\n",
    "    encoder.compile(loss='mean_squared_error', optimizer='adam')\n",
    "    return encoder\n",
    "\n",
    "def set_encoder_weight(encoder, model):\n",
    "    encoder.layers[1].set_weights(model.layers[0].get_weights())    \n",
    "    encoder.layers[2].set_weights(model.layers[1].get_weights())\n",
    "    return encoder\n",
    "\n",
    "def fit_bnn(trainX, trainY):\n",
    "    input1 = Input((32,))\n",
    "    x = Dense(128, activation=\"tanh\")(input1)\n",
    "    x = Dropout(0.05)(x, training=True)\n",
    "    x = Dense(64, activation=\"tanh\")(x)\n",
    "    x = Dropout(0.05)(x, training=True)\n",
    "    x = Dense(16, activation=\"tanh\")(x)\n",
    "    x = Dropout(0.05)(x, training=True)\n",
    "    x = Dense(1)(x)\n",
    "    bnn = Model(inputs=[input1], outputs=[x])\n",
    "    bnn.compile(loss='mean_squared_error', optimizer='adam')\n",
    "    # fit network\n",
    "    bnn.fit(trainX, trainY, epochs=1000, verbose=0, shuffle=False)\n",
    "    return bnn"
   ]
  },
  {
   "cell_type": "code",
   "execution_count": 8,
   "metadata": {},
   "outputs": [],
   "source": [
    "# extract embedding\n",
    "encoder = initialize_encoder()\n",
    "encoder = set_encoder_weight(encoder, encoder_decoder)\n",
    "output, state_h, train_state_c = encoder.predict(trainX)\n",
    "output, state_h, test_state_c = encoder.predict(testX)\n",
    "\n",
    "# state_c = numpy.reshape(state_c, (state_c.shape[0], 1, state_c.shape[1]))\n",
    "# print state_c.shape"
   ]
  },
  {
   "cell_type": "code",
   "execution_count": 33,
   "metadata": {},
   "outputs": [
    {
     "name": "stdout",
     "output_type": "stream",
     "text": [
      "_________________________________________________________________\n",
      "Layer (type)                 Output Shape              Param #   \n",
      "=================================================================\n",
      "input_3 (InputLayer)         (None, 32)                0         \n",
      "_________________________________________________________________\n",
      "dense_8 (Dense)              (None, 128)               4224      \n",
      "_________________________________________________________________\n",
      "dropout_4 (Dropout)          (None, 128)               0         \n",
      "_________________________________________________________________\n",
      "dense_9 (Dense)              (None, 64)                8256      \n",
      "_________________________________________________________________\n",
      "dropout_5 (Dropout)          (None, 64)                0         \n",
      "_________________________________________________________________\n",
      "dense_10 (Dense)             (None, 16)                1040      \n",
      "_________________________________________________________________\n",
      "dropout_6 (Dropout)          (None, 16)                0         \n",
      "_________________________________________________________________\n",
      "dense_11 (Dense)             (None, 1)                 17        \n",
      "=================================================================\n",
      "Total params: 13,537\n",
      "Trainable params: 13,537\n",
      "Non-trainable params: 0\n",
      "_________________________________________________________________\n",
      "None\n"
     ]
    }
   ],
   "source": [
    "# fit bnn\n",
    "bnn = fit_bnn(train_state_c, trainY)\n",
    "print bnn.summary()"
   ]
  },
  {
   "cell_type": "code",
   "execution_count": 35,
   "metadata": {},
   "outputs": [
    {
     "name": "stdout",
     "output_type": "stream",
     "text": [
      "Train Score: 23.72 RMSE\n",
      "Test Score: 60.95 RMSE\n",
      "[63.566948]\n",
      "[63.249172]\n"
     ]
    },
    {
     "data": {
      "image/png": "[encoded data removed]",
      "text/plain": [
       "<matplotlib.figure.Figure at 0x1a317f7190>"
      ]
     },
     "metadata": {
      "needs_background": "light"
     },
     "output_type": "display_data"
    }
   ],
   "source": [
    "# split into train and test sets\n",
    "train_size = int(len(dataset) * 0.67)\n",
    "test_size = len(dataset) - train_size\n",
    "train, test = dataset[0:train_size,:], dataset[train_size:len(dataset),:]\n",
    "\n",
    "# reshape into X=t and Y=t+1\n",
    "look_back = 1\n",
    "trainX, trainY = create_dataset(train, look_back)\n",
    "testX, testY = create_dataset(test, look_back)\n",
    "\n",
    "# reshape input to be [samples, time steps, features]\n",
    "trainX = numpy.reshape(trainX, (trainX.shape[0], 1, trainX.shape[1]))\n",
    "testX = numpy.reshape(testX, (testX.shape[0], 1, testX.shape[1]))\n",
    "\n",
    "trainPredict_list, testPredict_list = list(), list()\n",
    "for i in range(1000):\n",
    "    # make predictions\n",
    "    trainPredict = bnn.predict(train_state_c)\n",
    "    testPredict = bnn.predict(test_state_c)\n",
    "\n",
    "    # invert predictions\n",
    "    trainPredict = scaler.inverse_transform(trainPredict)\n",
    "    testPredict = scaler.inverse_transform(testPredict)\n",
    "\n",
    "trainPredict_list.append(trainPredict)\n",
    "testPredict_list.append(testPredict)\n",
    "\n",
    "trainPredict = numpy.mean(trainPredict_list,axis=0)\n",
    "testPredict = numpy.mean(testPredict_list,axis=0)\n",
    "train_up = numpy.add(trainPredict, numpy.std(trainPredict)).flatten()\n",
    "train_down = numpy.subtract(trainPredict,  numpy.std(trainPredict)).flatten()\n",
    "test_up = numpy.add(testPredict, numpy.std(testPredict)).flatten()\n",
    "test_down = numpy.subtract(testPredict, numpy.std(testPredict)).flatten()\n",
    "\n",
    "trainY = scaler.inverse_transform([trainY])\n",
    "testY = scaler.inverse_transform([testY])\n",
    "\n",
    "# calculate root mean squared error\n",
    "trainScore = math.sqrt(mean_squared_error(trainY[0], trainPredict[:,0]))\n",
    "print('Train Score: %.2f RMSE' % (trainScore))\n",
    "testScore = math.sqrt(mean_squared_error(testY[0], testPredict[:,0]))\n",
    "print('Test Score: %.2f RMSE' % (testScore))\n",
    "\n",
    "# shift train predictions for plotting\n",
    "trainPredictPlot = numpy.empty_like(dataset)\n",
    "trainPredictPlot[:, :] = numpy.nan\n",
    "trainPredictPlot[look_back:len(trainPredict)+look_back, :] = trainPredict\n",
    "\n",
    "# shift test predictions for plotting\n",
    "testPredictPlot = numpy.empty_like(dataset)\n",
    "testPredictPlot[:, :] = numpy.nan\n",
    "testPredictPlot[len(trainPredict)+(look_back*2)+1:len(dataset)-1, :] = testPredict\n",
    "\n",
    "# standard deviation\n",
    "print numpy.std(trainPredict,axis=0)\n",
    "print numpy.std(testPredict,axis=0)\n",
    "\n",
    "# plot baseline and predictions\n",
    "plt.title(\"International airline passengers problem with BNN\")\n",
    "plt.plot(scaler.inverse_transform(dataset), label=\"Ground_Truth\")\n",
    "plt.plot(trainPredictPlot, label=\"Train_Prediction\")\n",
    "plt.fill_between([x for x in range(94)], train_up, train_down, alpha=0.5, facecolor='tab:gray')\n",
    "plt.plot(testPredictPlot, label=\"Test_Prediction\")\n",
    "plt.fill_between([x for x in range(94,140)], test_up, test_down, alpha=0.5, facecolor='tab:gray')\n",
    "plt.legend()\n",
    "plt.savefig(\"BNN\", dpi=1000)\n",
    "plt.show()"
   ]
  },
  {
   "cell_type": "code",
   "execution_count": null,
   "metadata": {},
   "outputs": [],
   "source": []
  }
 ],
 "metadata": {
  "kernelspec": {
   "display_name": "Python 2",
   "language": "python",
   "name": "python2"
  },
  "language_info": {
   "codemirror_mode": {
    "name": "ipython",
    "version": 2
   },
   "file_extension": ".py",
   "mimetype": "text/x-python",
   "name": "python",
   "nbconvert_exporter": "python",
   "pygments_lexer": "ipython2",
   "version": "2.7.15"
  }
 },
 "nbformat": 4,
 "nbformat_minor": 2
}
